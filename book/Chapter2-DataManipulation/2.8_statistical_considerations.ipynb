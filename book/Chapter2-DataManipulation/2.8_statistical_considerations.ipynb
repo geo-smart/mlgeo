{
 "cells": [
  {
   "cell_type": "markdown",
   "metadata": {},
   "source": [
    "# 2.8 Statistical Considerations for geoscientific Data and Noise\n",
    "\n",
    "Statistical properties of geoscientific data"
   ]
  },
  {
   "cell_type": "code",
   "execution_count": null,
   "metadata": {},
   "outputs": [],
   "source": [
    "# Import modules for seismic data and feature extraction\n",
    "\n",
    "import numpy as np\n",
    "\n",
    "import matplotlib.pyplot as plt\n",
    "import pandas as pd\n",
    "import scipy\n",
    "import scipy.stats as st\n",
    "\n",
    "# time series feature extraction python toolbox:\n",
    "# import tsfresh\n",
    "\n",
    "\n"
   ]
  },
  {
   "cell_type": "markdown",
   "metadata": {},
   "source": [
    "## 1. Statistical Features\n",
    "\n",
    "::warning:: this might be replaced with slides.\n",
    "\n",
    "s\n",
    "Let be $P(z)$ the distribution of the data $z$.\n",
    "\n",
    "### The mean\n",
    "<div>\n",
    "<img src=\"mean.png\" alt=\"mean\" height=300  />\n",
    "</div>\n",
    "\n",
    "Image taken from this [blog](!https://gregorygundersen.com/blog/2020/04/11/moments).\n",
    "\n",
    "The mean is the sum of the values divided by the number of data points. It is the first raw moment of a distribution. \n",
    "$\\mu = \\int_{-\\infty}^\\infty zP(z)dz$, where z is the ground motion value (bin) and $P(z)$ is the distribution of the data.\n",
    "\n",
    "### The Variance\n",
    " <div>\n",
    "<img src=\"variance.png\" alt=\"variance\" height=200  />\n",
    "</div>\n",
    "\n",
    "The variance is the second *centralized* moment. *Centralized* means that the distribution is shifted around the mean. It calculates how spread out is a distribution.\n",
    "\n",
    "$\\sigma^2 = \\int_{-\\infty}^\\infty (z-\\mu)^2P(z)dz$\n",
    "\n",
    "The standard deviation is the square root of the variance, $\\sigma$. A high variance indicates a wide distribution.\n",
    "\n",
    "### The skewness\n",
    "\n",
    "Skewness is the third *standardized* moment. The *standardized* moment is scaled by the standard deviation. It measures the relative size of the two tails of the distribution.\n",
    "\n",
    "\n",
    "$m_3= \\int_{-\\infty}^\\infty \\frac{(z - \\mu)^3}{\\sigma^3}P(z)dz$\n",
    "\n",
    "With the cubic exponent, it is possible that the skewness is negative.\n",
    "\n",
    " <div>\n",
    "<img src=\"skewness.png\" alt=\"skewness\" height=200  />\n",
    "</div>\n",
    "\n",
    "Image taken from this [blog](!https://gregorygundersen.com/blog/2020/04/11/moments).\n",
    "\n",
    "A positively skewed distribution is one where most of the weight is at the end of the distribution. A negatively skewed distribution is one where most of the weight is at the beginning of the distribution.\n",
    "\n",
    "\n",
    "### Kurtosis\n",
    "\n",
    "Kurtosis measures the combined size of the two tails relative to the whole distribution. It is the fourth centralized and standardized moment.\n",
    "\n",
    "$m_4= \\int_{-\\infty}^\\infty (\\frac{z-\\mu}{\\sigma})^4P(z)dz$\n",
    "\n",
    " <div>\n",
    "<img src=\"kurtosis.png\" alt=\"kurtosis\" height=200  />\n",
    "</div>\n",
    "The laplace, normal, and uniform distributions have a mean of 0 and a variance of 1. But their kurtosis is 3, 0, and -1.2.\n",
    "\n",
    "\n",
    "Python functions to calculate the moments might be:"
   ]
  },
  {
   "cell_type": "code",
   "execution_count": null,
   "metadata": {},
   "outputs": [],
   "source": [
    "def raw_moment(X, k, c=0):\n",
    "    return ((X - c)**k).mean()\n",
    "\n",
    "def central_moment(X, k):\n",
    "    return raw_moment(X=X, k=k, c=X.mean())"
   ]
  },
  {
   "cell_type": "markdown",
   "metadata": {},
   "source": [
    "\n",
    "We can now calculate the mean, variance, skewness, and kurtosis of the data:\n"
   ]
  },
  {
   "cell_type": "code",
   "execution_count": null,
   "metadata": {},
   "outputs": [],
   "source": [
    "# enter answers here using the functions for the moment.\n",
    "# the mean:\n",
    "print(raw_moment(z,1))\n",
    "\n",
    "# the variance:\n",
    "print(central_moment(z,2))\n",
    "\n",
    "# the skewness\n",
    "print(central_moment(z,3)/central_moment(z,2)**(3/2))\n",
    "\n",
    "# the kurtosis\n",
    "print(central_moment(z,4)/central_moment(z,2)**2)\n",
    "\n"
   ]
  },
  {
   "cell_type": "markdown",
   "metadata": {},
   "source": [
    "We can also use the numpy and scipy modules to get these values"
   ]
  },
  {
   "cell_type": "code",
   "execution_count": null,
   "metadata": {},
   "outputs": [],
   "source": [
    "print('the mean is %4.2f, the variance is %4.2f, the skewness is %4.2f, the kurtosis is %4.2f'\n",
    " %(np.mean(z),np.std(z)**2,scipy.stats.skew(z),scipy.stats.kurtosis(z,fisher=False)))"
   ]
  },
  {
   "cell_type": "markdown",
   "metadata": {},
   "source": [
    "These values may mean nothing without some additional context. We can download seismic noise data to see if the earthquake waveforms are statistically different from the noise. For that, we will download the same length of data prior to the earthquake:"
   ]
  },
  {
   "cell_type": "markdown",
   "metadata": {},
   "source": [
    "## 2. Toy problem: synthetic data and noise\n",
    "\n",
    "\n",
    "Here we will contrusct a time series with 1 ricker wavelet as a source and synthetic noise\n",
    "\n",
    "We will analyze their statistical properties and compare the distributions. Present this as a binary classification problem."
   ]
  },
  {
   "cell_type": "code",
   "execution_count": null,
   "metadata": {},
   "outputs": [],
   "source": []
  },
  {
   "cell_type": "markdown",
   "metadata": {},
   "source": [
    "## 3. Realistic problem: data- or physics-informed synthetic data and noise\n",
    "\n",
    "In this case, we can create a time series that has the similar noise structure than the realistic noise."
   ]
  }
 ],
 "metadata": {
  "language_info": {
   "name": "python"
  }
 },
 "nbformat": 4,
 "nbformat_minor": 2
}
